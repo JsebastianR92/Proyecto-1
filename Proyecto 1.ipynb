{
 "cells": [
  {
   "cell_type": "markdown",
   "metadata": {},
   "source": [
    "### Sebastián Rodríguez\n",
    "### Carnet: 20003076\n",
    "\n",
    "\n",
    "# Proyecto#1: Ciencia de datos en Python"
   ]
  },
  {
   "cell_type": "code",
   "execution_count": 63,
   "metadata": {},
   "outputs": [],
   "source": [
    "import numpy as np\n",
    "import pandas as pd\n",
    "%matplotlib inline\n",
    "import matplotlib.pyplot as plt\n",
    "import seaborn as sns\n",
    "from sklearn import *\n",
    "import pandas as pd #Verificación"
   ]
  },
  {
   "cell_type": "code",
   "execution_count": 5,
   "metadata": {},
   "outputs": [
    {
     "data": {
      "text/plain": [
       "(1460, 6)"
      ]
     },
     "execution_count": 5,
     "metadata": {},
     "output_type": "execute_result"
    }
   ],
   "source": [
    "Total_Data = np.load(\"proyecto_training_data.npy\")\n",
    "\n",
    "'''\n",
    "plt.figure()\n",
    "plt.plot(Total_Data)\n",
    "plt.plot(Total_Data,'r--')\n",
    "'''\n",
    "Total_Data.shape\n",
    "#Total_Data.ndim\n",
    "#len(Total_Data)\n",
    "#Total_Data.itemsize \n",
    "#Total_Data\n"
   ]
  },
  {
   "cell_type": "code",
   "execution_count": 25,
   "metadata": {
    "scrolled": true
   },
   "outputs": [
    {
     "name": "stdout",
     "output_type": "stream",
     "text": [
      "Data 80%:  (1168, 5) (1168,)\n",
      "Data 20%:  (292, 5) (292,)\n"
     ]
    }
   ],
   "source": [
    "\n",
    "OchentaData_Tr = Total_Data[0:1168,1:]\n",
    "OchentaData_Te = Total_Data[0:1168,0]\n",
    "\n",
    "VeinteData_Tr = Total_Data[0:292,1:]\n",
    "VeinteData_Te = Total_Data[0:292,0]\n",
    "\n",
    "print (\"Data 80%: \", OchentaData_Tr.shape, OchentaData_Te.shape)\n",
    "print (\"Data 20%: \", VeinteData_Tr.shape, VeinteData_Te.shape)\n",
    "\n",
    "\n",
    "#OchentaData_Te.shape\n",
    "\n",
    "#VeinteData_Tr.shape\n",
    "#VeinteData_Te.shape\n",
    "\n"
   ]
  },
  {
   "cell_type": "markdown",
   "metadata": {},
   "source": [
    "'''\n",
    "Tr,nanp= Total_Data.shape\n",
    "\n",
    "Train = int(Tr*0.8)\n",
    "Test = int(Tr*0.2)\n",
    "#Train\n",
    "\n",
    "## Datos para entrenamiento\n",
    "F_Train = Total_Data[:Train,0]\n",
    "C_Train = Total_Data[:Train,1:]\n",
    "\n",
    "## Datos para pruebas\n",
    "F_Test = Total_Data[:Test,0]\n",
    "C_Test = Total_Data[:Test,1:]\n",
    "\n",
    "#F_Train.shape\n",
    "#S_Train.shape\n",
    "\n",
    "#F_Test.shape\n",
    "#S_Test.shape\n",
    "\n",
    "'''"
   ]
  },
  {
   "cell_type": "code",
   "execution_count": 38,
   "metadata": {},
   "outputs": [
    {
     "name": "stdout",
     "output_type": "stream",
     "text": [
      "Para Entrenamiento: \t\n",
      "  Min:   34900.0 \t\n",
      "  Max:  755000.0 \t\n",
      "  Media:  180590.27739726027 \t\n",
      "  Rango:  720100.0 \t\n",
      "  Desviación estándar:  78781.95108033362\n",
      "Primera Columma: \t\n",
      "  Min:   7.0 \t\n",
      "  Max:  2003.0 \t\n",
      "  Media:  587.8 \t\n",
      "  Rango:  1996.0 \t\n",
      "  Desviación estándar:  777.3723432178431\n",
      "Segunda Columma: \t\n",
      "  Min:   6.0 \t\n",
      "  Max:  1976.0 \t\n",
      "  Media:  666.0 \t\n",
      "  Rango:  1970.0 \t\n",
      "  Desviación estándar:  810.6678728061203\n",
      "Tercera Columma: \t\n",
      "  Min:   6.0 \t\n",
      "  Max:  2001.0 \t\n",
      "  Media:  600.4 \t\n",
      "  Rango:  1995.0 \t\n",
      "  Desviación estándar:  781.3717681104174\n",
      "Cuarta Columma: \t\n",
      "  Min:   7.0 \t\n",
      "  Max:  1915.0 \t\n",
      "  Media:  590.0 \t\n",
      "  Rango:  1908.0 \t\n",
      "  Desviación estándar:  755.5056584831116\n",
      "Quinta Columma: \t\n",
      "  Min:   8.0 \t\n",
      "  Max:  2000.0 \t\n",
      "  Media:  649.2 \t\n",
      "  Rango:  1992.0 \t\n",
      "  Desviación estándar:  801.3641868713624\n"
     ]
    }
   ],
   "source": [
    "# Datos a obtener: \n",
    "#Media\n",
    "#Valor maximo\n",
    "#Valor minimo\n",
    "#Rango\n",
    "#Desviacion estándar\n",
    "\n",
    "\n",
    "print(\"Para Entrenamiento: \\t\\n \", \"Min:  \",np.nanmin(OchentaData_Te),\"\\t\\n  \" \"Max: \",np.nanmax(OchentaData_Te),\"\\t\\n  \" \"Media: \", np.nanmean(OchentaData_Te),\n",
    "     \"\\t\\n  \" \"Rango: \", np.nanmax(OchentaData_Te)-np.nanmin(OchentaData_Te),\"\\t\\n  \" \"Desviación estándar: \", np.nanstd(OchentaData_Te)\n",
    "     )\n",
    "\n",
    "PrimeraCol = OchentaData_Tr[0]\n",
    "print(\"Primera Columma: \\t\\n \", \"Min:  \",np.nanmin(PrimeraCol),\"\\t\\n  \" \"Max: \",np.nanmax(PrimeraCol),\"\\t\\n  \" \"Media: \", np.nanmean(PrimeraCol),\n",
    "     \"\\t\\n  \" \"Rango: \", np.nanmax(PrimeraCol)-np.nanmin(PrimeraCol),\"\\t\\n  \" \"Desviación estándar: \", np.nanstd(PrimeraCol)\n",
    "     )\n",
    "\n",
    "SegundaCol = OchentaData_Tr[1]\n",
    "print(\"Segunda Columma: \\t\\n \", \"Min:  \",np.nanmin(SegundaCol),\"\\t\\n  \" \"Max: \",np.nanmax(SegundaCol),\"\\t\\n  \" \"Media: \", np.nanmean(SegundaCol),\n",
    "     \"\\t\\n  \" \"Rango: \", np.nanmax(SegundaCol)-np.nanmin(SegundaCol),\"\\t\\n  \" \"Desviación estándar: \", np.nanstd(SegundaCol)\n",
    "     )\n",
    "TerceraCol = OchentaData_Tr[2]\n",
    "print(\"Tercera Columma: \\t\\n \", \"Min:  \",np.nanmin(TerceraCol),\"\\t\\n  \" \"Max: \",np.nanmax(TerceraCol),\"\\t\\n  \" \"Media: \", np.nanmean(TerceraCol),\n",
    "     \"\\t\\n  \" \"Rango: \", np.nanmax(TerceraCol)-np.nanmin(TerceraCol),\"\\t\\n  \" \"Desviación estándar: \", np.nanstd(TerceraCol)\n",
    "     )\n",
    "CuartaCol = OchentaData_Tr[3]\n",
    "print(\"Cuarta Columma: \\t\\n \", \"Min:  \",np.nanmin(CuartaCol),\"\\t\\n  \" \"Max: \",np.nanmax(CuartaCol),\"\\t\\n  \" \"Media: \", np.nanmean(CuartaCol),\n",
    "     \"\\t\\n  \" \"Rango: \", np.nanmax(CuartaCol)-np.nanmin(CuartaCol),\"\\t\\n  \" \"Desviación estándar: \", np.nanstd(CuartaCol)\n",
    "     )\n",
    "QuintaCol = OchentaData_Tr[4]\n",
    "print(\"Quinta Columma: \\t\\n \", \"Min:  \",np.nanmin(QuintaCol),\"\\t\\n  \" \"Max: \",np.nanmax(QuintaCol),\"\\t\\n  \" \"Media: \", np.nanmean(QuintaCol),\n",
    "     \"\\t\\n  \" \"Rango: \", np.nanmax(QuintaCol)-np.nanmin(QuintaCol),\"\\t\\n  \" \"Desviación estándar: \", np.nanstd(QuintaCol)\n",
    "     )"
   ]
  },
  {
   "cell_type": "code",
   "execution_count": 69,
   "metadata": {},
   "outputs": [
    {
     "ename": "ValueError",
     "evalue": "num must be 1 <= num <= 6, not 7",
     "output_type": "error",
     "traceback": [
      "\u001b[1;31m---------------------------------------------------------------------------\u001b[0m",
      "\u001b[1;31mValueError\u001b[0m                                Traceback (most recent call last)",
      "\u001b[1;32m<ipython-input-69-3000dffb574c>\u001b[0m in \u001b[0;36m<module>\u001b[1;34m\u001b[0m\n\u001b[0;32m     19\u001b[0m \u001b[0mplt\u001b[0m\u001b[1;33m.\u001b[0m\u001b[0mtitle\u001b[0m \u001b[1;33m(\u001b[0m\u001b[1;34m\"Cuarta Columna\"\u001b[0m\u001b[1;33m)\u001b[0m\u001b[1;33m\u001b[0m\u001b[1;33m\u001b[0m\u001b[0m\n\u001b[0;32m     20\u001b[0m \u001b[1;33m\u001b[0m\u001b[0m\n\u001b[1;32m---> 21\u001b[1;33m \u001b[0mplt\u001b[0m\u001b[1;33m.\u001b[0m\u001b[0msubplot\u001b[0m\u001b[1;33m(\u001b[0m\u001b[1;36m2\u001b[0m\u001b[1;33m,\u001b[0m\u001b[1;36m3\u001b[0m\u001b[1;33m,\u001b[0m\u001b[1;36m7\u001b[0m\u001b[1;33m)\u001b[0m\u001b[1;33m\u001b[0m\u001b[1;33m\u001b[0m\u001b[0m\n\u001b[0m\u001b[0;32m     22\u001b[0m \u001b[0msns\u001b[0m\u001b[1;33m.\u001b[0m\u001b[0mdistplot\u001b[0m\u001b[1;33m(\u001b[0m\u001b[0mQuintaCol\u001b[0m\u001b[1;33m,\u001b[0m \u001b[0mcolor\u001b[0m\u001b[1;33m=\u001b[0m\u001b[1;34m'purple'\u001b[0m\u001b[1;33m)\u001b[0m\u001b[1;33m\u001b[0m\u001b[1;33m\u001b[0m\u001b[0m\n\u001b[0;32m     23\u001b[0m \u001b[0mplt\u001b[0m\u001b[1;33m.\u001b[0m\u001b[0mtitle\u001b[0m \u001b[1;33m(\u001b[0m\u001b[1;34m\"Quinta Columna\"\u001b[0m\u001b[1;33m)\u001b[0m\u001b[1;33m\u001b[0m\u001b[1;33m\u001b[0m\u001b[0m\n",
      "\u001b[1;32mC:\\ProgramData\\Anaconda3\\lib\\site-packages\\matplotlib\\pyplot.py\u001b[0m in \u001b[0;36msubplot\u001b[1;34m(*args, **kwargs)\u001b[0m\n\u001b[0;32m   1074\u001b[0m \u001b[1;33m\u001b[0m\u001b[0m\n\u001b[0;32m   1075\u001b[0m     \u001b[0mfig\u001b[0m \u001b[1;33m=\u001b[0m \u001b[0mgcf\u001b[0m\u001b[1;33m(\u001b[0m\u001b[1;33m)\u001b[0m\u001b[1;33m\u001b[0m\u001b[1;33m\u001b[0m\u001b[0m\n\u001b[1;32m-> 1076\u001b[1;33m     \u001b[0ma\u001b[0m \u001b[1;33m=\u001b[0m \u001b[0mfig\u001b[0m\u001b[1;33m.\u001b[0m\u001b[0madd_subplot\u001b[0m\u001b[1;33m(\u001b[0m\u001b[1;33m*\u001b[0m\u001b[0margs\u001b[0m\u001b[1;33m,\u001b[0m \u001b[1;33m**\u001b[0m\u001b[0mkwargs\u001b[0m\u001b[1;33m)\u001b[0m\u001b[1;33m\u001b[0m\u001b[1;33m\u001b[0m\u001b[0m\n\u001b[0m\u001b[0;32m   1077\u001b[0m     \u001b[0mbbox\u001b[0m \u001b[1;33m=\u001b[0m \u001b[0ma\u001b[0m\u001b[1;33m.\u001b[0m\u001b[0mbbox\u001b[0m\u001b[1;33m\u001b[0m\u001b[1;33m\u001b[0m\u001b[0m\n\u001b[0;32m   1078\u001b[0m     \u001b[0mbyebye\u001b[0m \u001b[1;33m=\u001b[0m \u001b[1;33m[\u001b[0m\u001b[1;33m]\u001b[0m\u001b[1;33m\u001b[0m\u001b[1;33m\u001b[0m\u001b[0m\n",
      "\u001b[1;32mC:\\ProgramData\\Anaconda3\\lib\\site-packages\\matplotlib\\figure.py\u001b[0m in \u001b[0;36madd_subplot\u001b[1;34m(self, *args, **kwargs)\u001b[0m\n\u001b[0;32m   1412\u001b[0m                     \u001b[0mself\u001b[0m\u001b[1;33m.\u001b[0m\u001b[0m_axstack\u001b[0m\u001b[1;33m.\u001b[0m\u001b[0mremove\u001b[0m\u001b[1;33m(\u001b[0m\u001b[0max\u001b[0m\u001b[1;33m)\u001b[0m\u001b[1;33m\u001b[0m\u001b[1;33m\u001b[0m\u001b[0m\n\u001b[0;32m   1413\u001b[0m \u001b[1;33m\u001b[0m\u001b[0m\n\u001b[1;32m-> 1414\u001b[1;33m             \u001b[0ma\u001b[0m \u001b[1;33m=\u001b[0m \u001b[0msubplot_class_factory\u001b[0m\u001b[1;33m(\u001b[0m\u001b[0mprojection_class\u001b[0m\u001b[1;33m)\u001b[0m\u001b[1;33m(\u001b[0m\u001b[0mself\u001b[0m\u001b[1;33m,\u001b[0m \u001b[1;33m*\u001b[0m\u001b[0margs\u001b[0m\u001b[1;33m,\u001b[0m \u001b[1;33m**\u001b[0m\u001b[0mkwargs\u001b[0m\u001b[1;33m)\u001b[0m\u001b[1;33m\u001b[0m\u001b[1;33m\u001b[0m\u001b[0m\n\u001b[0m\u001b[0;32m   1415\u001b[0m \u001b[1;33m\u001b[0m\u001b[0m\n\u001b[0;32m   1416\u001b[0m         \u001b[1;32mreturn\u001b[0m \u001b[0mself\u001b[0m\u001b[1;33m.\u001b[0m\u001b[0m_add_axes_internal\u001b[0m\u001b[1;33m(\u001b[0m\u001b[0mkey\u001b[0m\u001b[1;33m,\u001b[0m \u001b[0ma\u001b[0m\u001b[1;33m)\u001b[0m\u001b[1;33m\u001b[0m\u001b[1;33m\u001b[0m\u001b[0m\n",
      "\u001b[1;32mC:\\ProgramData\\Anaconda3\\lib\\site-packages\\matplotlib\\axes\\_subplots.py\u001b[0m in \u001b[0;36m__init__\u001b[1;34m(self, fig, *args, **kwargs)\u001b[0m\n\u001b[0;32m     57\u001b[0m                 \u001b[1;32mif\u001b[0m \u001b[0mnum\u001b[0m \u001b[1;33m<\u001b[0m \u001b[1;36m1\u001b[0m \u001b[1;32mor\u001b[0m \u001b[0mnum\u001b[0m \u001b[1;33m>\u001b[0m \u001b[0mrows\u001b[0m\u001b[1;33m*\u001b[0m\u001b[0mcols\u001b[0m\u001b[1;33m:\u001b[0m\u001b[1;33m\u001b[0m\u001b[1;33m\u001b[0m\u001b[0m\n\u001b[0;32m     58\u001b[0m                     raise ValueError(\n\u001b[1;32m---> 59\u001b[1;33m                         f\"num must be 1 <= num <= {rows*cols}, not {num}\")\n\u001b[0m\u001b[0;32m     60\u001b[0m                 self._subplotspec = GridSpec(\n\u001b[0;32m     61\u001b[0m                         rows, cols, figure=self.figure)[int(num) - 1]\n",
      "\u001b[1;31mValueError\u001b[0m: num must be 1 <= num <= 6, not 7"
     ]
    },
    {
     "data": {
      "image/png": "[encoded data removed]",
      "text/plain": [
       "<Figure size 432x288 with 5 Axes>"
      ]
     },
     "metadata": {
      "needs_background": "light"
     },
     "output_type": "display_data"
    }
   ],
   "source": [
    "plt. subplot (2,3,1)\n",
    "plt.title (\"Entrenamiento\")\n",
    "sns.distplot(OchentaData_Te, color='green')\n",
    "\n",
    "plt.subplot(2,3,3)\n",
    "sns.distplot(PrimeraCol, color='blue')\n",
    "plt.title (\"Primera Columna\")\n",
    "\n",
    "plt.subplot(2,3,4)\n",
    "sns.distplot(SegundaCol, color='yellow')\n",
    "plt.title (\"Segunda Columna\")\n",
    "\n",
    "plt.subplot(2,3,5)\n",
    "sns.distplot(TerceraCol, color='red')\n",
    "plt.title (\"Tercera Columna\")\n",
    "\n",
    "plt.subplot(2,3,6)\n",
    "sns.distplot(CuartaCol, color='orange')\n",
    "plt.title (\"Cuarta Columna\")\n",
    "\n",
    "plt.subplot(2,3,7)\n",
    "sns.distplot(QuintaCol, color='purple')\n",
    "plt.title (\"Quinta Columna\")"
   ]
  },
  {
   "cell_type": "code",
   "execution_count": 60,
   "metadata": {},
   "outputs": [
    {
     "data": {
      "text/plain": [
       "<matplotlib.axes._subplots.AxesSubplot at 0x23aa34cb4c8>"
      ]
     },
     "execution_count": 60,
     "metadata": {},
     "output_type": "execute_result"
    },
    {
     "data": {
      "image/png": "[encoded data removed]",
      "text/plain": [
       "<Figure size 432x288 with 1 Axes>"
      ]
     },
     "metadata": {
      "needs_background": "light"
     },
     "output_type": "display_data"
    }
   ],
   "source": [
    "plt.title (\"Primera Columna\")\n",
    "sns.distplot(PrimeraCol, color='blue')"
   ]
  },
  {
   "cell_type": "code",
   "execution_count": 62,
   "metadata": {},
   "outputs": [
    {
     "ename": "AttributeError",
     "evalue": "'numpy.ndarray' object has no attribute 'colums'",
     "output_type": "error",
     "traceback": [
      "\u001b[1;31m---------------------------------------------------------------------------\u001b[0m",
      "\u001b[1;31mAttributeError\u001b[0m                            Traceback (most recent call last)",
      "\u001b[1;32m<ipython-input-62-3bddb2fe48ee>\u001b[0m in \u001b[0;36m<module>\u001b[1;34m\u001b[0m\n\u001b[1;32m----> 1\u001b[1;33m \u001b[0mPrimeraCol\u001b[0m\u001b[1;33m.\u001b[0m\u001b[0mcolums\u001b[0m\u001b[1;33m\u001b[0m\u001b[1;33m\u001b[0m\u001b[0m\n\u001b[0m",
      "\u001b[1;31mAttributeError\u001b[0m: 'numpy.ndarray' object has no attribute 'colums'"
     ]
    }
   ],
   "source": [
    "PrimeraCol.colums"
   ]
  },
  {
   "cell_type": "code",
   "execution_count": 64,
   "metadata": {},
   "outputs": [
    {
     "ename": "AttributeError",
     "evalue": "'numpy.ndarray' object has no attribute 'head'",
     "output_type": "error",
     "traceback": [
      "\u001b[1;31m---------------------------------------------------------------------------\u001b[0m",
      "\u001b[1;31mAttributeError\u001b[0m                            Traceback (most recent call last)",
      "\u001b[1;32m<ipython-input-64-f3dfd6041c61>\u001b[0m in \u001b[0;36m<module>\u001b[1;34m\u001b[0m\n\u001b[1;32m----> 1\u001b[1;33m \u001b[0mPrimeraCol\u001b[0m\u001b[1;33m.\u001b[0m\u001b[0mhead\u001b[0m\u001b[1;33m(\u001b[0m\u001b[1;33m)\u001b[0m\u001b[1;33m\u001b[0m\u001b[1;33m\u001b[0m\u001b[0m\n\u001b[0m",
      "\u001b[1;31mAttributeError\u001b[0m: 'numpy.ndarray' object has no attribute 'head'"
     ]
    }
   ],
   "source": [
    "PrimeraCol.head()"
   ]
  },
  {
   "cell_type": "code",
   "execution_count": null,
   "metadata": {},
   "outputs": [],
   "source": []
  }
 ],
 "metadata": {
  "kernelspec": {
   "display_name": "Python 3",
   "language": "python",
   "name": "python3"
  },
  "language_info": {
   "codemirror_mode": {
    "name": "ipython",
    "version": 3
   },
   "file_extension": ".py",
   "mimetype": "text/x-python",
   "name": "python",
   "nbconvert_exporter": "python",
   "pygments_lexer": "ipython3",
   "version": "3.7.4"
  }
 },
 "nbformat": 4,
 "nbformat_minor": 2
}
