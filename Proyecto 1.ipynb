{
 "cells": [
  {
   "cell_type": "markdown",
   "metadata": {},
   "source": [
    "### Sebastián Rodríguez\n",
    "### Carnet: 20003076\n",
    "\n",
    "\n",
    "# Proyecto#1: Ciencia de datos en Python"
   ]
  },
  {
   "cell_type": "code",
   "execution_count": 125,
   "metadata": {},
   "outputs": [],
   "source": [
    "import numpy as np\n",
    "import pandas as pd\n",
    "%matplotlib inline\n",
    "import matplotlib.pyplot as plt\n",
    "import seaborn as sns\n",
    "from sklearn import *"
   ]
  },
  {
   "cell_type": "code",
   "execution_count": 37,
   "metadata": {},
   "outputs": [
    {
     "data": {
      "text/plain": [
       "array([[2.08500e+05, 7.00000e+00, 8.56000e+02, 8.00000e+00, 2.00300e+03,\n",
       "        6.50000e+01],\n",
       "       [1.81500e+05, 6.00000e+00, 1.26200e+03, 6.00000e+00, 1.97600e+03,\n",
       "        8.00000e+01],\n",
       "       [2.23500e+05, 7.00000e+00, 9.20000e+02, 6.00000e+00, 2.00100e+03,\n",
       "        6.80000e+01],\n",
       "       ...,\n",
       "       [2.66500e+05, 7.00000e+00, 1.18800e+03, 9.00000e+00, 1.94100e+03,\n",
       "        6.60000e+01],\n",
       "       [1.42125e+05, 5.00000e+00, 1.07800e+03, 5.00000e+00, 1.95000e+03,\n",
       "        6.80000e+01],\n",
       "       [1.47500e+05, 5.00000e+00, 1.25600e+03, 6.00000e+00, 1.96500e+03,\n",
       "        7.50000e+01]])"
      ]
     },
     "execution_count": 37,
     "metadata": {},
     "output_type": "execute_result"
    }
   ],
   "source": [
    "Total_Data = np.load(\"proyecto_training_data.npy\")\n",
    "\n",
    "'''\n",
    "plt.figure()\n",
    "plt.plot(Total_Data)\n",
    "plt.plot(Total_Data,'r--')\n",
    "'''\n",
    "Total_Data.shape\n",
    "#Total_Data.ndim\n",
    "#len(Total_Data)\n",
    "#Total_Data.itemsize \n",
    "Total_Data\n"
   ]
  },
  {
   "cell_type": "code",
   "execution_count": 116,
   "metadata": {},
   "outputs": [],
   "source": [
    "Tr,nanp= Total_Data.shape\n",
    "\n",
    "Train = int(Tr*0.8)\n",
    "Test = int(Tr*0.2)\n",
    "#Train\n",
    "\n",
    "## Datos para entrenamiento\n",
    "F_Train = Total_Data[:Train,0]\n",
    "C_Train = Total_Data[:Train,1:]\n",
    "\n",
    "## Datos para pruebas\n",
    "F_Test = Total_Data[:Test,0]\n",
    "C_Test = Total_Data[:Test,1:]\n",
    "\n",
    "#F_Train.shape\n",
    "#S_Train.shape\n",
    "\n",
    "#F_Test.shape\n",
    "#S_Test.shape\n"
   ]
  },
  {
   "cell_type": "code",
   "execution_count": 121,
   "metadata": {},
   "outputs": [
    {
     "name": "stdout",
     "output_type": "stream",
     "text": [
      "Para F_Train: \t\n",
      "  Min:   34900.0 \t\n",
      "  Max:  755000.0 \t\n",
      "  Rango:  720100.0 \t\n",
      "  Desviación estándar:  78781.95108033362\n"
     ]
    },
    {
     "data": {
      "text/plain": [
       "'\\nfor i in range(C_Train.shape[1]):\\n    print(\"Specs de columnas: X%i\" % (i+1))\\n    print(\"Estadística descriptiva:  \\t\\n\", np.nanmin(C_Train),\"\\t\\n  \" \"Max: \",np.nanmax(C_Train),\\n     \"\\t\\n  \" \"Rango: \", np.nanmax(C_Train)-np.nanmin(C_Train),\"\\t\\n  \" \"Desviación estándar: \", np.nanstd(C_Train)\\n         )\\n'"
      ]
     },
     "execution_count": 121,
     "metadata": {},
     "output_type": "execute_result"
    }
   ],
   "source": [
    "'''\n",
    "Media\n",
    "Valor maximo\n",
    "Valor minimo\n",
    "Rango\n",
    "Desviacion estándar\n",
    "'''\n",
    "\n",
    "print(\"Para F_Train: \\t\\n \", \"Min:  \",np.nanmin(F_Train),\"\\t\\n  \" \"Max: \",np.nanmax(F_Train),\n",
    "     \"\\t\\n  \" \"Rango: \", np.nanmax(F_Train)-np.nanmin(F_Train),\"\\t\\n  \" \"Desviación estándar: \", np.nanstd(F_Train)\n",
    "     )\n",
    "\n",
    "'''\n",
    "for i in range(C_Train.shape[1]):\n",
    "    print(\"Specs de columnas: X%i\" % (i+1))\n",
    "    print(\"Estadística descriptiva:  \\t\\n\", np.nanmin(C_Train),\"\\t\\n  \" \"Max: \",np.nanmax(C_Train),\n",
    "     \"\\t\\n  \" \"Rango: \", np.nanmax(C_Train)-np.nanmin(C_Train),\"\\t\\n  \" \"Desviación estándar: \", np.nanstd(C_Train)\n",
    "         )\n",
    "'''\n",
    "\n"
   ]
  },
  {
   "cell_type": "code",
   "execution_count": 126,
   "metadata": {},
   "outputs": [
    {
     "ename": "AttributeError",
     "evalue": "'numpy.ndarray' object has no attribute 'hist'",
     "output_type": "error",
     "traceback": [
      "\u001b[1;31m---------------------------------------------------------------------------\u001b[0m",
      "\u001b[1;31mAttributeError\u001b[0m                            Traceback (most recent call last)",
      "\u001b[1;32m<ipython-input-126-a803537328b8>\u001b[0m in \u001b[0;36m<module>\u001b[1;34m\u001b[0m\n\u001b[1;32m----> 1\u001b[1;33m \u001b[0mTotal_Data\u001b[0m\u001b[1;33m.\u001b[0m\u001b[0mhist\u001b[0m\u001b[1;33m(\u001b[0m\u001b[0mbins\u001b[0m\u001b[1;33m=\u001b[0m\u001b[1;36m30\u001b[0m\u001b[1;33m,\u001b[0m \u001b[0mfigsize\u001b[0m\u001b[1;33m=\u001b[0m\u001b[1;33m(\u001b[0m\u001b[1;36m20\u001b[0m\u001b[1;33m,\u001b[0m\u001b[1;36m20\u001b[0m\u001b[1;33m)\u001b[0m\u001b[1;33m)\u001b[0m\u001b[1;33m\u001b[0m\u001b[1;33m\u001b[0m\u001b[0m\n\u001b[0m",
      "\u001b[1;31mAttributeError\u001b[0m: 'numpy.ndarray' object has no attribute 'hist'"
     ]
    }
   ],
   "source": [
    "Total_Data.hist(bins=30, figsize=(20,20))"
   ]
  },
  {
   "cell_type": "code",
   "execution_count": null,
   "metadata": {},
   "outputs": [],
   "source": []
  }
 ],
 "metadata": {
  "kernelspec": {
   "display_name": "Python 3",
   "language": "python",
   "name": "python3"
  },
  "language_info": {
   "codemirror_mode": {
    "name": "ipython",
    "version": 3
   },
   "file_extension": ".py",
   "mimetype": "text/x-python",
   "name": "python",
   "nbconvert_exporter": "python",
   "pygments_lexer": "ipython3",
   "version": "3.7.4"
  }
 },
 "nbformat": 4,
 "nbformat_minor": 2
}
